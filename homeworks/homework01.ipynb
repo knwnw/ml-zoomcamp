{
 "cells": [
  {
   "cell_type": "code",
   "execution_count": 1,
   "id": "0673f07a-adce-45c8-840b-9c0f68b3369f",
   "metadata": {},
   "outputs": [],
   "source": [
    "import numpy as np\n",
    "import pandas as pd"
   ]
  },
  {
   "cell_type": "code",
   "execution_count": 2,
   "id": "8c571d4b-6719-4a88-b409-ba55b86fc74b",
   "metadata": {},
   "outputs": [
    {
     "data": {
      "text/plain": [
       "'1.23.3'"
      ]
     },
     "execution_count": 2,
     "metadata": {},
     "output_type": "execute_result"
    }
   ],
   "source": [
    "# Question 1\n",
    "np.__version__"
   ]
  },
  {
   "cell_type": "code",
   "execution_count": 3,
   "id": "df5bc121-5797-4984-a3de-5bc5dc7b2994",
   "metadata": {},
   "outputs": [],
   "source": [
    "df = pd.read_csv(\"https://raw.githubusercontent.com/alexeygrigorev/mlbookcamp-code/master/chapter-02-car-price/data.csv\")"
   ]
  },
  {
   "cell_type": "code",
   "execution_count": 4,
   "id": "e32f418a-b27e-4ecb-96e5-97a50628f5e2",
   "metadata": {},
   "outputs": [
    {
     "data": {
      "text/plain": [
       "11914"
      ]
     },
     "execution_count": 4,
     "metadata": {},
     "output_type": "execute_result"
    }
   ],
   "source": [
    "# Question 2\n",
    "df.shape[0]"
   ]
  },
  {
   "cell_type": "code",
   "execution_count": 5,
   "id": "933d7c71-06f6-47c2-a405-fb9475a5e2de",
   "metadata": {},
   "outputs": [
    {
     "data": {
      "text/plain": [
       "Chevrolet     1123\n",
       "Ford           881\n",
       "Volkswagen     809\n",
       "Name: Make, dtype: int64"
      ]
     },
     "execution_count": 5,
     "metadata": {},
     "output_type": "execute_result"
    }
   ],
   "source": [
    "# Question 3\n",
    "df[\"Make\"].value_counts()[:3]"
   ]
  },
  {
   "cell_type": "code",
   "execution_count": 6,
   "id": "56b01ad5-2c92-49ea-962d-801483d2c127",
   "metadata": {},
   "outputs": [
    {
     "data": {
      "text/plain": [
       "(34,)"
      ]
     },
     "execution_count": 6,
     "metadata": {},
     "output_type": "execute_result"
    }
   ],
   "source": [
    "# Question 4\n",
    "df[df[\"Make\"] == \"Audi\"][\"Model\"].unique().shape"
   ]
  },
  {
   "cell_type": "code",
   "execution_count": 7,
   "id": "02cf9ade-0fd9-46e6-806e-b24e397cd397",
   "metadata": {},
   "outputs": [
    {
     "data": {
      "text/plain": [
       "5"
      ]
     },
     "execution_count": 7,
     "metadata": {},
     "output_type": "execute_result"
    }
   ],
   "source": [
    "# Question 5\n",
    "(df.isnull().sum() > 0).sum()"
   ]
  },
  {
   "cell_type": "code",
   "execution_count": 8,
   "id": "8295a57c-29ed-4028-b844-7e6f1ba5e139",
   "metadata": {},
   "outputs": [
    {
     "name": "stdout",
     "output_type": "stream",
     "text": [
      "True\n"
     ]
    }
   ],
   "source": [
    "# Question 6\n",
    "median_before_fillna = df[\"Engine Cylinders\"].median()\n",
    "mode = df[\"Engine Cylinders\"].mode()[0]\n",
    "df[\"Engine Cylinders\"] = df[\"Engine Cylinders\"].fillna(mode)\n",
    "median_after_fillna = df[\"Engine Cylinders\"].median()\n",
    "\n",
    "print(median_before_fillna == median_after_fillna)"
   ]
  },
  {
   "cell_type": "code",
   "execution_count": 9,
   "id": "a2764c38-4bb8-406b-845b-bf7ea74ba5aa",
   "metadata": {},
   "outputs": [
    {
     "name": "stdout",
     "output_type": "stream",
     "text": [
      "[  4.59494481 -63.56432501]\n"
     ]
    }
   ],
   "source": [
    "# Question 7\n",
    "lotus_df = df[df[\"Make\"] == \"Lotus\"]\n",
    "lotus_df = lotus_df[[\"Engine HP\", \"Engine Cylinders\"]]\n",
    "lotus_df = lotus_df.drop_duplicates()\n",
    "X = lotus_df.values\n",
    "XTX = X.T @ X\n",
    "XTX_inverse = np.linalg.inv(XTX)\n",
    "y = np.array([1100, 800, 750, 850, 1300, 1000, 1000, 1300, 800])\n",
    "w = XTX_inverse @ X.T @ y\n",
    "\n",
    "print(w)"
   ]
  }
 ],
 "metadata": {
  "kernelspec": {
   "display_name": "Python 3 (ipykernel)",
   "language": "python",
   "name": "python3"
  },
  "language_info": {
   "codemirror_mode": {
    "name": "ipython",
    "version": 3
   },
   "file_extension": ".py",
   "mimetype": "text/x-python",
   "name": "python",
   "nbconvert_exporter": "python",
   "pygments_lexer": "ipython3",
   "version": "3.9.5"
  }
 },
 "nbformat": 4,
 "nbformat_minor": 5
}
